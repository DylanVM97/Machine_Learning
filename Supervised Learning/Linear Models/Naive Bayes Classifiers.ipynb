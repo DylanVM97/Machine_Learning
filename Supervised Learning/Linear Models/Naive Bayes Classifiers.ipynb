{
 "cells": [
  {
   "cell_type": "markdown",
   "metadata": {},
   "source": [
    "## Naive Bayes Classifier"
   ]
  },
  {
   "cell_type": "markdown",
   "metadata": {},
   "source": [
    "Naive Bayes es un tipo de clasificador probabilístico basado en el teorema de Bayes, con la suposición de que las características (o atributos) de los datos son independientes entre sí, dado el valor de la variable objetivo (etiqueta). A pesar de esta suposición simplificadora (de independencia), Naive Bayes puede ser muy efectivo en la práctica para muchos problemas de clasificación.\n",
    "\n",
    "**Gaussian Naive Bayes:**\n",
    "\n",
    "- Descripción: Asume que los datos continúan en cada clase tienen una distribución normal (gaussiana). Es adecuado para características continuas.\n",
    "- Uso típico: Se utiliza cuando las características tienen una distribución aproximadamente normal. Por ejemplo, en problemas de clasificación de texto donde las características son frecuencias de palabras.\n",
    "\n",
    "**Multinomial Naive Bayes:**\n",
    "\n",
    "- Descripción: Se utiliza principalmente para datos categóricos o de conteo. Asume que las características siguen una distribución multinomial. Es especialmente útil para clasificar textos y otras características categóricas.\n",
    "- Uso típico: Clasificación de texto (como en el análisis de sentimientos y filtros de spam), donde las características son recuentos de palabras o frecuencias.\n",
    "\n",
    "**Bernoulli Naive Bayes:**\n",
    "\n",
    "- Descripción: Es similar al Multinomial Naive Bayes, pero asume que cada característica es una variable binaria (0 o 1). Es útil cuando las características se presentan en formato binario.\n",
    "- Uso típico: Problemas donde las características son binarios, como en la clasificación de documentos en presencia o ausencia de ciertas palabras (en lugar de contar la frecuencia de las palabras)."
   ]
  },
  {
   "cell_type": "code",
   "execution_count": 2,
   "metadata": {},
   "outputs": [],
   "source": [
    "import numpy as np"
   ]
  },
  {
   "cell_type": "code",
   "execution_count": 3,
   "metadata": {},
   "outputs": [],
   "source": [
    "X = np.array([[0, 1, 0, 1], #0\n",
    "              [1, 0, 1, 1], #1\n",
    "              [0, 0, 0, 1], #0\n",
    "              [1, 0, 1, 0]]) #1\n",
    "y = np.array([0, 1, 0, 1])"
   ]
  },
  {
   "cell_type": "markdown",
   "metadata": {},
   "source": [
    "BernoulliNB suma los valores de cada clase, es decir, suma [0, 1, 0, 1] + [1, 0, 1, 0] = [0, 1, 0, 2] para los que se definen como clase 0. Haciedno lo correspondiente para la clase 1."
   ]
  },
  {
   "cell_type": "code",
   "execution_count": 4,
   "metadata": {},
   "outputs": [
    {
     "name": "stdout",
     "output_type": "stream",
     "text": [
      "Feature counts:\n",
      " {0: array([0, 1, 0, 2]), 1: array([2, 0, 2, 1])}\n"
     ]
    }
   ],
   "source": [
    "counts = {}\n",
    "for label in np.unique(y):\n",
    "    # iterate over each class\n",
    "    # count (sum) entries of 1 per feature\n",
    "    counts[label] = X[y == label].sum(axis=0)\n",
    "print(\"Feature counts:\\n\", counts)"
   ]
  }
 ],
 "metadata": {
  "kernelspec": {
   "display_name": "Python 3",
   "language": "python",
   "name": "python3"
  },
  "language_info": {
   "codemirror_mode": {
    "name": "ipython",
    "version": 3
   },
   "file_extension": ".py",
   "mimetype": "text/x-python",
   "name": "python",
   "nbconvert_exporter": "python",
   "pygments_lexer": "ipython3",
   "version": "3.12.4"
  }
 },
 "nbformat": 4,
 "nbformat_minor": 2
}
